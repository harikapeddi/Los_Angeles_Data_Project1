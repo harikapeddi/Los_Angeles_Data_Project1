{
 "cells": [
  {
   "cell_type": "code",
   "execution_count": 2,
   "metadata": {},
   "outputs": [],
   "source": [
    "import pandas as pd \n",
    "import matplotlib.pyplot as plt\n",
    "import seaborn as sns"
   ]
  },
  {
   "cell_type": "code",
   "execution_count": 3,
   "metadata": {},
   "outputs": [
    {
     "data": {
      "text/html": [
       "<div>\n",
       "<style scoped>\n",
       "    .dataframe tbody tr th:only-of-type {\n",
       "        vertical-align: middle;\n",
       "    }\n",
       "\n",
       "    .dataframe tbody tr th {\n",
       "        vertical-align: top;\n",
       "    }\n",
       "\n",
       "    .dataframe thead th {\n",
       "        text-align: right;\n",
       "    }\n",
       "</style>\n",
       "<table border=\"1\" class=\"dataframe\">\n",
       "  <thead>\n",
       "    <tr style=\"text-align: right;\">\n",
       "      <th></th>\n",
       "      <th>Region</th>\n",
       "      <th>Month of Period End</th>\n",
       "      <th>Median Sale Price</th>\n",
       "      <th>Median Sale Price MoM</th>\n",
       "      <th>Median Sale Price YoY</th>\n",
       "      <th>Homes Sold</th>\n",
       "      <th>Homes Sold MoM</th>\n",
       "      <th>Homes Sold YoY</th>\n",
       "      <th>New Listings</th>\n",
       "      <th>New Listings MoM</th>\n",
       "      <th>New Listings YoY</th>\n",
       "      <th>Inventory</th>\n",
       "      <th>Inventory MoM</th>\n",
       "      <th>Inventory YoY</th>\n",
       "      <th>Days on Market</th>\n",
       "      <th>Days on Market MoM</th>\n",
       "      <th>Days on Market YoY</th>\n",
       "      <th>Average Sale To List</th>\n",
       "      <th>Average Sale To List MoM</th>\n",
       "      <th>Average Sale To List YoY</th>\n",
       "    </tr>\n",
       "  </thead>\n",
       "  <tbody>\n",
       "    <tr>\n",
       "      <th>0</th>\n",
       "      <td>Los Angeles, CA metro area</td>\n",
       "      <td>2012-02-01</td>\n",
       "      <td>$300K</td>\n",
       "      <td>0.034</td>\n",
       "      <td>-0.048</td>\n",
       "      <td>5250</td>\n",
       "      <td>0.046</td>\n",
       "      <td>0.130</td>\n",
       "      <td>8163</td>\n",
       "      <td>-0.017</td>\n",
       "      <td>-0.068</td>\n",
       "      <td>24094</td>\n",
       "      <td>-0.039</td>\n",
       "      <td>-0.220</td>\n",
       "      <td>67</td>\n",
       "      <td>-3</td>\n",
       "      <td>-10</td>\n",
       "      <td>0.977</td>\n",
       "      <td>0.001</td>\n",
       "      <td>-0.004</td>\n",
       "    </tr>\n",
       "    <tr>\n",
       "      <th>1</th>\n",
       "      <td>Los Angeles, CA metro area</td>\n",
       "      <td>2012-03-01</td>\n",
       "      <td>$310K</td>\n",
       "      <td>0.033</td>\n",
       "      <td>-0.035</td>\n",
       "      <td>6797</td>\n",
       "      <td>0.295</td>\n",
       "      <td>0.037</td>\n",
       "      <td>8445</td>\n",
       "      <td>0.035</td>\n",
       "      <td>-0.179</td>\n",
       "      <td>22386</td>\n",
       "      <td>-0.071</td>\n",
       "      <td>-0.279</td>\n",
       "      <td>63</td>\n",
       "      <td>-4</td>\n",
       "      <td>-7</td>\n",
       "      <td>0.979</td>\n",
       "      <td>0.002</td>\n",
       "      <td>0.000</td>\n",
       "    </tr>\n",
       "    <tr>\n",
       "      <th>2</th>\n",
       "      <td>Los Angeles, CA metro area</td>\n",
       "      <td>2012-04-01</td>\n",
       "      <td>$315K</td>\n",
       "      <td>0.016</td>\n",
       "      <td>-0.031</td>\n",
       "      <td>6626</td>\n",
       "      <td>-0.025</td>\n",
       "      <td>0.062</td>\n",
       "      <td>7961</td>\n",
       "      <td>-0.057</td>\n",
       "      <td>-0.152</td>\n",
       "      <td>21313</td>\n",
       "      <td>-0.048</td>\n",
       "      <td>-0.322</td>\n",
       "      <td>54</td>\n",
       "      <td>-9</td>\n",
       "      <td>-7</td>\n",
       "      <td>0.981</td>\n",
       "      <td>0.002</td>\n",
       "      <td>0.000</td>\n",
       "    </tr>\n",
       "    <tr>\n",
       "      <th>3</th>\n",
       "      <td>Los Angeles, CA metro area</td>\n",
       "      <td>2012-05-01</td>\n",
       "      <td>$320K</td>\n",
       "      <td>0.016</td>\n",
       "      <td>0.000</td>\n",
       "      <td>7355</td>\n",
       "      <td>0.110</td>\n",
       "      <td>0.209</td>\n",
       "      <td>8372</td>\n",
       "      <td>0.052</td>\n",
       "      <td>-0.131</td>\n",
       "      <td>19879</td>\n",
       "      <td>-0.067</td>\n",
       "      <td>-0.377</td>\n",
       "      <td>49</td>\n",
       "      <td>-5</td>\n",
       "      <td>-6</td>\n",
       "      <td>0.985</td>\n",
       "      <td>0.004</td>\n",
       "      <td>0.005</td>\n",
       "    </tr>\n",
       "    <tr>\n",
       "      <th>4</th>\n",
       "      <td>Los Angeles, CA metro area</td>\n",
       "      <td>2012-06-01</td>\n",
       "      <td>$330K</td>\n",
       "      <td>0.031</td>\n",
       "      <td>0.015</td>\n",
       "      <td>7599</td>\n",
       "      <td>0.033</td>\n",
       "      <td>0.120</td>\n",
       "      <td>7900</td>\n",
       "      <td>-0.056</td>\n",
       "      <td>-0.182</td>\n",
       "      <td>18705</td>\n",
       "      <td>-0.059</td>\n",
       "      <td>-0.414</td>\n",
       "      <td>42</td>\n",
       "      <td>-7</td>\n",
       "      <td>-14</td>\n",
       "      <td>0.989</td>\n",
       "      <td>0.004</td>\n",
       "      <td>0.009</td>\n",
       "    </tr>\n",
       "  </tbody>\n",
       "</table>\n",
       "</div>"
      ],
      "text/plain": [
       "                       Region Month of Period End Median Sale Price  \\\n",
       "0  Los Angeles, CA metro area          2012-02-01             $300K   \n",
       "1  Los Angeles, CA metro area          2012-03-01             $310K   \n",
       "2  Los Angeles, CA metro area          2012-04-01             $315K   \n",
       "3  Los Angeles, CA metro area          2012-05-01             $320K   \n",
       "4  Los Angeles, CA metro area          2012-06-01             $330K   \n",
       "\n",
       "   Median Sale Price MoM   Median Sale Price YoY   Homes Sold  \\\n",
       "0                   0.034                  -0.048        5250   \n",
       "1                   0.033                  -0.035        6797   \n",
       "2                   0.016                  -0.031        6626   \n",
       "3                   0.016                   0.000        7355   \n",
       "4                   0.031                   0.015        7599   \n",
       "\n",
       "   Homes Sold MoM   Homes Sold YoY   New Listings  New Listings MoM   \\\n",
       "0            0.046            0.130          8163             -0.017   \n",
       "1            0.295            0.037          8445              0.035   \n",
       "2           -0.025            0.062          7961             -0.057   \n",
       "3            0.110            0.209          8372              0.052   \n",
       "4            0.033            0.120          7900             -0.056   \n",
       "\n",
       "   New Listings YoY   Inventory  Inventory MoM    Inventory YoY   \\\n",
       "0             -0.068      24094          -0.039           -0.220   \n",
       "1             -0.179      22386          -0.071           -0.279   \n",
       "2             -0.152      21313          -0.048           -0.322   \n",
       "3             -0.131      19879          -0.067           -0.377   \n",
       "4             -0.182      18705          -0.059           -0.414   \n",
       "\n",
       "   Days on Market  Days on Market MoM  Days on Market YoY  \\\n",
       "0              67                  -3                 -10   \n",
       "1              63                  -4                  -7   \n",
       "2              54                  -9                  -7   \n",
       "3              49                  -5                  -6   \n",
       "4              42                  -7                 -14   \n",
       "\n",
       "   Average Sale To List  Average Sale To List MoM   Average Sale To List YoY   \n",
       "0                 0.977                      0.001                     -0.004  \n",
       "1                 0.979                      0.002                      0.000  \n",
       "2                 0.981                      0.002                      0.000  \n",
       "3                 0.985                      0.004                      0.005  \n",
       "4                 0.989                      0.004                      0.009  "
      ]
     },
     "execution_count": 3,
     "metadata": {},
     "output_type": "execute_result"
    }
   ],
   "source": [
    "\n",
    "#housing_data = pd.read_csv(r'C:\\Users\\squiros\\Los_Angeles_Data_Project1\\Resources\\Housing_LA.csv',encoding= 'ISO-8859-1')\n",
    "housing_data = pd.read_excel('Resources/LosAngeles_housing.xlsx')\n",
    "housing_data.head()"
   ]
  },
  {
   "cell_type": "code",
   "execution_count": 4,
   "metadata": {},
   "outputs": [
    {
     "data": {
      "text/html": [
       "<div>\n",
       "<style scoped>\n",
       "    .dataframe tbody tr th:only-of-type {\n",
       "        vertical-align: middle;\n",
       "    }\n",
       "\n",
       "    .dataframe tbody tr th {\n",
       "        vertical-align: top;\n",
       "    }\n",
       "\n",
       "    .dataframe thead th {\n",
       "        text-align: right;\n",
       "    }\n",
       "</style>\n",
       "<table border=\"1\" class=\"dataframe\">\n",
       "  <thead>\n",
       "    <tr style=\"text-align: right;\">\n",
       "      <th></th>\n",
       "      <th>Region</th>\n",
       "      <th>Month of Period End</th>\n",
       "      <th>Median Sale Price</th>\n",
       "      <th>Median Sale Price MoM</th>\n",
       "      <th>Median Sale Price YoY</th>\n",
       "      <th>Homes Sold</th>\n",
       "      <th>Homes Sold MoM</th>\n",
       "      <th>Homes Sold YoY</th>\n",
       "      <th>New Listings</th>\n",
       "      <th>New Listings MoM</th>\n",
       "      <th>New Listings YoY</th>\n",
       "      <th>Inventory</th>\n",
       "      <th>Inventory MoM</th>\n",
       "      <th>Inventory YoY</th>\n",
       "      <th>Days on Market</th>\n",
       "      <th>Days on Market MoM</th>\n",
       "      <th>Days on Market YoY</th>\n",
       "      <th>Average Sale To List</th>\n",
       "      <th>Average Sale To List MoM</th>\n",
       "      <th>Average Sale To List YoY</th>\n",
       "    </tr>\n",
       "  </thead>\n",
       "  <tbody>\n",
       "    <tr>\n",
       "      <th>0</th>\n",
       "      <td>Los Angeles, CA metro area</td>\n",
       "      <td>2012-02-01</td>\n",
       "      <td>300</td>\n",
       "      <td>0.034</td>\n",
       "      <td>-0.048</td>\n",
       "      <td>5250</td>\n",
       "      <td>0.046</td>\n",
       "      <td>0.130</td>\n",
       "      <td>8163</td>\n",
       "      <td>-0.017</td>\n",
       "      <td>-0.068</td>\n",
       "      <td>24094</td>\n",
       "      <td>-0.039</td>\n",
       "      <td>-0.220</td>\n",
       "      <td>67</td>\n",
       "      <td>-3</td>\n",
       "      <td>-10</td>\n",
       "      <td>0.977</td>\n",
       "      <td>0.001</td>\n",
       "      <td>-0.004</td>\n",
       "    </tr>\n",
       "    <tr>\n",
       "      <th>1</th>\n",
       "      <td>Los Angeles, CA metro area</td>\n",
       "      <td>2012-03-01</td>\n",
       "      <td>310</td>\n",
       "      <td>0.033</td>\n",
       "      <td>-0.035</td>\n",
       "      <td>6797</td>\n",
       "      <td>0.295</td>\n",
       "      <td>0.037</td>\n",
       "      <td>8445</td>\n",
       "      <td>0.035</td>\n",
       "      <td>-0.179</td>\n",
       "      <td>22386</td>\n",
       "      <td>-0.071</td>\n",
       "      <td>-0.279</td>\n",
       "      <td>63</td>\n",
       "      <td>-4</td>\n",
       "      <td>-7</td>\n",
       "      <td>0.979</td>\n",
       "      <td>0.002</td>\n",
       "      <td>0.000</td>\n",
       "    </tr>\n",
       "    <tr>\n",
       "      <th>2</th>\n",
       "      <td>Los Angeles, CA metro area</td>\n",
       "      <td>2012-04-01</td>\n",
       "      <td>315</td>\n",
       "      <td>0.016</td>\n",
       "      <td>-0.031</td>\n",
       "      <td>6626</td>\n",
       "      <td>-0.025</td>\n",
       "      <td>0.062</td>\n",
       "      <td>7961</td>\n",
       "      <td>-0.057</td>\n",
       "      <td>-0.152</td>\n",
       "      <td>21313</td>\n",
       "      <td>-0.048</td>\n",
       "      <td>-0.322</td>\n",
       "      <td>54</td>\n",
       "      <td>-9</td>\n",
       "      <td>-7</td>\n",
       "      <td>0.981</td>\n",
       "      <td>0.002</td>\n",
       "      <td>0.000</td>\n",
       "    </tr>\n",
       "    <tr>\n",
       "      <th>3</th>\n",
       "      <td>Los Angeles, CA metro area</td>\n",
       "      <td>2012-05-01</td>\n",
       "      <td>320</td>\n",
       "      <td>0.016</td>\n",
       "      <td>0.000</td>\n",
       "      <td>7355</td>\n",
       "      <td>0.110</td>\n",
       "      <td>0.209</td>\n",
       "      <td>8372</td>\n",
       "      <td>0.052</td>\n",
       "      <td>-0.131</td>\n",
       "      <td>19879</td>\n",
       "      <td>-0.067</td>\n",
       "      <td>-0.377</td>\n",
       "      <td>49</td>\n",
       "      <td>-5</td>\n",
       "      <td>-6</td>\n",
       "      <td>0.985</td>\n",
       "      <td>0.004</td>\n",
       "      <td>0.005</td>\n",
       "    </tr>\n",
       "    <tr>\n",
       "      <th>4</th>\n",
       "      <td>Los Angeles, CA metro area</td>\n",
       "      <td>2012-06-01</td>\n",
       "      <td>330</td>\n",
       "      <td>0.031</td>\n",
       "      <td>0.015</td>\n",
       "      <td>7599</td>\n",
       "      <td>0.033</td>\n",
       "      <td>0.120</td>\n",
       "      <td>7900</td>\n",
       "      <td>-0.056</td>\n",
       "      <td>-0.182</td>\n",
       "      <td>18705</td>\n",
       "      <td>-0.059</td>\n",
       "      <td>-0.414</td>\n",
       "      <td>42</td>\n",
       "      <td>-7</td>\n",
       "      <td>-14</td>\n",
       "      <td>0.989</td>\n",
       "      <td>0.004</td>\n",
       "      <td>0.009</td>\n",
       "    </tr>\n",
       "  </tbody>\n",
       "</table>\n",
       "</div>"
      ],
      "text/plain": [
       "                       Region Month of Period End Median Sale Price  \\\n",
       "0  Los Angeles, CA metro area          2012-02-01               300   \n",
       "1  Los Angeles, CA metro area          2012-03-01               310   \n",
       "2  Los Angeles, CA metro area          2012-04-01               315   \n",
       "3  Los Angeles, CA metro area          2012-05-01               320   \n",
       "4  Los Angeles, CA metro area          2012-06-01               330   \n",
       "\n",
       "   Median Sale Price MoM   Median Sale Price YoY   Homes Sold  \\\n",
       "0                   0.034                  -0.048        5250   \n",
       "1                   0.033                  -0.035        6797   \n",
       "2                   0.016                  -0.031        6626   \n",
       "3                   0.016                   0.000        7355   \n",
       "4                   0.031                   0.015        7599   \n",
       "\n",
       "   Homes Sold MoM   Homes Sold YoY   New Listings  New Listings MoM   \\\n",
       "0            0.046            0.130          8163             -0.017   \n",
       "1            0.295            0.037          8445              0.035   \n",
       "2           -0.025            0.062          7961             -0.057   \n",
       "3            0.110            0.209          8372              0.052   \n",
       "4            0.033            0.120          7900             -0.056   \n",
       "\n",
       "   New Listings YoY   Inventory  Inventory MoM    Inventory YoY   \\\n",
       "0             -0.068      24094          -0.039           -0.220   \n",
       "1             -0.179      22386          -0.071           -0.279   \n",
       "2             -0.152      21313          -0.048           -0.322   \n",
       "3             -0.131      19879          -0.067           -0.377   \n",
       "4             -0.182      18705          -0.059           -0.414   \n",
       "\n",
       "   Days on Market  Days on Market MoM  Days on Market YoY  \\\n",
       "0              67                  -3                 -10   \n",
       "1              63                  -4                  -7   \n",
       "2              54                  -9                  -7   \n",
       "3              49                  -5                  -6   \n",
       "4              42                  -7                 -14   \n",
       "\n",
       "   Average Sale To List  Average Sale To List MoM   Average Sale To List YoY   \n",
       "0                 0.977                      0.001                     -0.004  \n",
       "1                 0.979                      0.002                      0.000  \n",
       "2                 0.981                      0.002                      0.000  \n",
       "3                 0.985                      0.004                      0.005  \n",
       "4                 0.989                      0.004                      0.009  "
      ]
     },
     "execution_count": 4,
     "metadata": {},
     "output_type": "execute_result"
    }
   ],
   "source": [
    "#getting rid of the symbols\n",
    "to_replace = {'$': '',\n",
    "             'K': ''}\n",
    "for key,value in to_replace.items(): \n",
    "    housing_data ['Median Sale Price']= housing_data ['Median Sale Price'].str.replace(key,value)\n",
    "\n",
    "#housing_data.head()\n",
    "#housing_data ['Median Sale Price']= housing_data ['Median Sale Price'].str.replace('K','')\n",
    "housing_data.head()"
   ]
  },
  {
   "cell_type": "code",
   "execution_count": 5,
   "metadata": {},
   "outputs": [
    {
     "data": {
      "text/plain": [
       "Region                               object\n",
       "Month of Period End          datetime64[ns]\n",
       "Median Sale Price                   float64\n",
       "Median Sale Price MoM               float64\n",
       "Median Sale Price YoY               float64\n",
       "Homes Sold                            int64\n",
       "Homes Sold MoM                      float64\n",
       "Homes Sold YoY                      float64\n",
       "New Listings                          int64\n",
       "New Listings MoM                    float64\n",
       "New Listings YoY                    float64\n",
       "Inventory                             int64\n",
       "Inventory MoM                       float64\n",
       " Inventory YoY                      float64\n",
       "Days on Market                        int64\n",
       "Days on Market MoM                    int64\n",
       "Days on Market YoY                    int64\n",
       "Average Sale To List                float64\n",
       "Average Sale To List MoM            float64\n",
       "Average Sale To List YoY            float64\n",
       "dtype: object"
      ]
     },
     "execution_count": 5,
     "metadata": {},
     "output_type": "execute_result"
    }
   ],
   "source": [
    "#changing the median prices as float\n",
    "housing_data['Median Sale Price'] = housing_data['Median Sale Price'].astype(float)\n",
    "housing_data.dtypes"
   ]
  },
  {
   "cell_type": "code",
   "execution_count": 6,
   "metadata": {},
   "outputs": [
    {
     "data": {
      "image/png": "[encoded data removed]",
      "text/plain": [
       "<Figure size 432x288 with 1 Axes>"
      ]
     },
     "metadata": {
      "needs_background": "light"
     },
     "output_type": "display_data"
    }
   ],
   "source": [
    "#plotting the figure Median sale price over time\n",
    "fig= housing_data.plot.scatter( x= 'Month of Period End', y='Median Sale Price', color = 'DarkBlue').get_figure()\n",
    "fig.savefig('Output/Median sale price over the years.png')\n"
   ]
  },
  {
   "cell_type": "code",
   "execution_count": 7,
   "metadata": {},
   "outputs": [
    {
     "data": {
      "text/plain": [
       "dtype('float64')"
      ]
     },
     "execution_count": 7,
     "metadata": {},
     "output_type": "execute_result"
    }
   ],
   "source": [
    "\n",
    "a= housing_data.resample('Y', on='Month of Period End')['Median Sale Price'].mean()\n",
    "type(a.values)\n",
    "a.dtype"
   ]
  },
  {
   "cell_type": "code",
   "execution_count": 8,
   "metadata": {
    "scrolled": true
   },
   "outputs": [
    {
     "data": {
      "text/plain": [
       "(9,)"
      ]
     },
     "execution_count": 8,
     "metadata": {},
     "output_type": "execute_result"
    }
   ],
   "source": [
    "import numpy as np\n",
    "Y = housing_data.resample('Y', on='Month of Period End')['Median Sale Price'].mean()\n",
    "year = np.arange(2013,2022,1)\n",
    "year.shape"
   ]
  },
  {
   "cell_type": "code",
   "execution_count": 9,
   "metadata": {},
   "outputs": [
    {
     "data": {
      "text/plain": [
       "Month of Period End\n",
       "2012-12-31          NaN\n",
       "2013-12-31    24.835526\n",
       "2014-12-31    11.533816\n",
       "2015-12-31     7.200866\n",
       "2016-12-31     7.474747\n",
       "2017-12-31     7.847744\n",
       "2018-12-31     6.884532\n",
       "2019-12-31     2.935181\n",
       "2020-12-31     8.211221\n",
       "2021-12-31    11.004026\n",
       "Freq: A-DEC, Name: Median Sale Price, dtype: float64"
      ]
     },
     "execution_count": 9,
     "metadata": {},
     "output_type": "execute_result"
    }
   ],
   "source": [
    "y_increase = Y.pct_change()*100\n",
    "y_increase"
   ]
  },
  {
   "cell_type": "code",
   "execution_count": 10,
   "metadata": {},
   "outputs": [
    {
     "data": {
      "text/plain": [
       "(9,)"
      ]
     },
     "execution_count": 10,
     "metadata": {},
     "output_type": "execute_result"
    }
   ],
   "source": [
    "y_cummulative = y_increase.cumsum().dropna()\n",
    "y_cummulative.shape"
   ]
  },
  {
   "cell_type": "code",
   "execution_count": 11,
   "metadata": {},
   "outputs": [
    {
     "data": {
      "text/plain": [
       "<matplotlib.collections.PathCollection at 0x20543fbf9a0>"
      ]
     },
     "execution_count": 11,
     "metadata": {},
     "output_type": "execute_result"
    },
    {
     "data": {
      "image/png": "[encoded data removed]",
      "text/plain": [
       "<Figure size 432x288 with 1 Axes>"
      ]
     },
     "metadata": {
      "needs_background": "light"
     },
     "output_type": "display_data"
    }
   ],
   "source": [
    "plt.scatter(year,y_cummulative)"
   ]
  },
  {
   "cell_type": "code",
   "execution_count": 12,
   "metadata": {},
   "outputs": [
    {
     "data": {
      "text/plain": [
       "0.1956521739130435"
      ]
     },
     "execution_count": 12,
     "metadata": {},
     "output_type": "execute_result"
    }
   ],
   "source": [
    "(495-414)/414"
   ]
  },
  {
   "cell_type": "code",
   "execution_count": 13,
   "metadata": {},
   "outputs": [
    {
     "data": {
      "image/png": "[encoded data removed]",
      "text/plain": [
       "<Figure size 432x288 with 1 Axes>"
      ]
     },
     "metadata": {
      "needs_background": "light"
     },
     "output_type": "display_data"
    }
   ],
   "source": [
    "import scipy.stats as st\n",
    "from scipy.stats import linregress\n",
    "x = year\n",
    "y = y_cummulative.fillna(0)\n",
    "(slope, intercept, rvalue, pvalue, stderr) = linregress(x, y)\n",
    "line_value = slope*x + intercept\n",
    "line_equation = f\"y = {(round(slope,2))} x + {(round(intercept, 2))}\"\n",
    "plt.scatter(x, y).get_figure()\n",
    "plt.plot(x, line_value, color='r')\n",
    "plt.annotate(line_equation,(2017,40), color='r', fontsize=10)\n",
    "# plt.legend(line_equation)\n",
    "plt.xlabel('year')\n",
    "plt.ylabel('accumulative percentage increase')\n",
    "plt.title('Housing Price Percentage Growth')\n",
    "\n",
    "plt.savefig('Output/housing_percentage.png')\n",
    "plt.show()"
   ]
  },
  {
   "cell_type": "code",
   "execution_count": null,
   "metadata": {},
   "outputs": [],
   "source": []
  }
 ],
 "metadata": {
  "kernelspec": {
   "display_name": "Python [conda env:root] *",
   "language": "python",
   "name": "conda-root-py"
  },
  "language_info": {
   "codemirror_mode": {
    "name": "ipython",
    "version": 3
   },
   "file_extension": ".py",
   "mimetype": "text/x-python",
   "name": "python",
   "nbconvert_exporter": "python",
   "pygments_lexer": "ipython3",
   "version": "3.8.5"
  }
 },
 "nbformat": 4,
 "nbformat_minor": 4
}
